{
 "cells": [
  {
   "cell_type": "code",
   "execution_count": 1,
   "id": "e0303fc4",
   "metadata": {},
   "outputs": [],
   "source": [
    "import numpy as np\n",
    "import operator\n",
    "from operator import itemgetter\n",
    "from sklearn.datasets import load_digits\n",
    "from sklearn.model_selection import train_test_split\n",
    "from sklearn.metrics import accuracy_score\n",
    "from sklearn.metrics import precision_recall_fscore_support\n",
    "from matplotlib import pyplot as plt"
   ]
  },
  {
   "cell_type": "code",
   "execution_count": 2,
   "id": "5302971b",
   "metadata": {},
   "outputs": [],
   "source": [
    "# x1 and x2 are two vectors of different images\n",
    "def euclidean_distance(x1, x2):\n",
    "    return np.sqrt(np.sum((x1 - x2) ** 2))"
   ]
  },
  {
   "cell_type": "code",
   "execution_count": 8,
   "id": "f63d4991",
   "metadata": {},
   "outputs": [],
   "source": [
    "class KNN:\n",
    "    # constructor for initializing k\n",
    "    def __init__(self, k=3):\n",
    "        self.k = k\n",
    "\n",
    "    # save training data and labels\n",
    "    def fit(self, x_train, y_train):\n",
    "        self.x_train = x_train # training data\n",
    "        self.y_train = y_train # training labels\n",
    "\n",
    "    # performing prediction\n",
    "    def predict(self, x_test):\n",
    "        predictions = []\n",
    "        for i in range(len(x_test)):\n",
    "            # calculating distance of test data[i] from all training data\n",
    "            dist = np.array([euclidean_distance(x_test[i], x) for x in self.x_train])\n",
    "            # sort the distnaces and return first k neighbors\n",
    "            dist_sorted = dist.argsort()[:self.k]\n",
    "            # set neighbour count to empty set\n",
    "            neigh_count = {}\n",
    "            for idx in dist_sorted:\n",
    "                # if exist in set, increment frequency\n",
    "                if self.y_train[idx] in neigh_count:\n",
    "                    neigh_count[self.y_train[idx]] += 1\n",
    "                else:\n",
    "                    # if not exist in set, add to set with frequency 1\n",
    "                    neigh_count[self.y_train[idx]] = 1\n",
    "            # sort the neighbour count in descending order and return the first one\n",
    "            # which is the most frequent label in the k neighbours\n",
    "            sorted_neigh_count = sorted(neigh_count.items(), key=itemgetter(1), reverse=True)\n",
    "            predictions.append(sorted_neigh_count[0][0])\n",
    "        return predictions"
   ]
  },
  {
   "cell_type": "code",
   "execution_count": 9,
   "id": "d7c12157",
   "metadata": {},
   "outputs": [
    {
     "name": "stdout",
     "output_type": "stream",
     "text": [
      "(1797, 64)\n"
     ]
    }
   ],
   "source": [
    "# loading mnist dataset\n",
    "mnist = load_digits()\n",
    "print(mnist.data.shape)\n",
    "\n",
    "X = mnist.data\n",
    "y = mnist.target"
   ]
  },
  {
   "cell_type": "code",
   "execution_count": 10,
   "id": "ea816129",
   "metadata": {},
   "outputs": [],
   "source": [
    "# splitting data to train and test data\n",
    "X_train, X_test, y_train, y_test = train_test_split(X, y, test_size=0.25, random_state=123)"
   ]
  },
  {
   "cell_type": "code",
   "execution_count": 11,
   "id": "cdc219a3",
   "metadata": {},
   "outputs": [
    {
     "name": "stdout",
     "output_type": "stream",
     "text": [
      "k=3, accuracy=0.9756\n",
      "k=5, accuracy=0.9756\n",
      "k=7, accuracy=0.9756\n",
      "k=9, accuracy=0.9756\n",
      "k=11, accuracy=0.9733\n",
      "k=13, accuracy=0.9711\n",
      "k=15, accuracy=0.9689\n",
      "k=17, accuracy=0.9667\n",
      "k=19, accuracy=0.9667\n",
      "k=21, accuracy=0.9667\n",
      "k=23, accuracy=0.9644\n",
      "k=25, accuracy=0.9644\n",
      "k=27, accuracy=0.9644\n",
      "k=29, accuracy=0.9622\n",
      "k=31, accuracy=0.9600\n",
      "k=33, accuracy=0.9600\n",
      "k=35, accuracy=0.9578\n",
      "k=37, accuracy=0.9578\n",
      "k=39, accuracy=0.9578\n",
      "k=41, accuracy=0.9533\n",
      "k=43, accuracy=0.9511\n",
      "k=45, accuracy=0.9489\n",
      "k=47, accuracy=0.9444\n",
      "k=49, accuracy=0.9444\n",
      "k=51, accuracy=0.9378\n",
      "k=53, accuracy=0.9356\n",
      "k=55, accuracy=0.9333\n",
      "k=57, accuracy=0.9333\n",
      "k=59, accuracy=0.9311\n",
      "k=61, accuracy=0.9333\n",
      "k=63, accuracy=0.9333\n",
      "k=65, accuracy=0.9311\n",
      "k=67, accuracy=0.9289\n",
      "k=69, accuracy=0.9267\n",
      "k=71, accuracy=0.9289\n",
      "k=73, accuracy=0.9311\n",
      "k=75, accuracy=0.9289\n",
      "k=77, accuracy=0.9267\n",
      "k=79, accuracy=0.9200\n",
      "k=81, accuracy=0.9222\n",
      "k=83, accuracy=0.9222\n",
      "k=85, accuracy=0.9200\n",
      "k=87, accuracy=0.9178\n",
      "k=89, accuracy=0.9178\n",
      "k=91, accuracy=0.9111\n",
      "k=93, accuracy=0.9111\n",
      "k=95, accuracy=0.9089\n",
      "k=97, accuracy=0.9089\n",
      "k=99, accuracy=0.9067\n"
     ]
    }
   ],
   "source": [
    "# find the best k-value by training for k in the range 1 to 100\n",
    "kVals = np.arange(3, 100, 2)\n",
    "accuracies = []\n",
    "for k in kVals:\n",
    "    model = KNN(k=k)\n",
    "    model.fit(X_train, y_train)\n",
    "    predictions = model.predict(X_test)\n",
    "    accuracy = accuracy_score(y_test, predictions)\n",
    "    accuracies.append(accuracy)\n",
    "    print(f\"k={k}, accuracy={accuracy:.4f}\")"
   ]
  },
  {
   "cell_type": "code",
   "execution_count": 12,
   "id": "644fcd21",
   "metadata": {},
   "outputs": [
    {
     "name": "stdout",
     "output_type": "stream",
     "text": [
      "Best k value is 3 with accuracy 0.9756\n"
     ]
    }
   ],
   "source": [
    "# find the index where k = max\n",
    "max_index = accuracies.index(max(accuracies))\n",
    "print(f\"Best k value is {kVals[max_index]} with accuracy {max(accuracies):.4f}\")"
   ]
  },
  {
   "cell_type": "code",
   "execution_count": 13,
   "id": "93da08c6",
   "metadata": {},
   "outputs": [
    {
     "data": {
      "image/png": "[encoded data removed]",
      "text/plain": [
       "<Figure size 640x480 with 1 Axes>"
      ]
     },
     "metadata": {},
     "output_type": "display_data"
    }
   ],
   "source": [
    "# plot k values and their accuracies\n",
    "plt.plot(kVals, accuracies, marker='o')\n",
    "plt.title(\"k vs. Accuracy\")\n",
    "plt.xlabel(\"k\")\n",
    "plt.ylabel(\"Accuracy\")\n",
    "plt.show()"
   ]
  },
  {
   "cell_type": "code",
   "execution_count": 14,
   "id": "fe4295d0",
   "metadata": {},
   "outputs": [
    {
     "name": "stdout",
     "output_type": "stream",
     "text": [
      "Precision: [1.         0.89361702 1.         0.93023256 0.98113208 1.\n",
      " 1.         1.         1.         0.95      ]\n",
      "Recall: [1.         1.         0.97560976 1.         1.         0.95833333\n",
      " 1.         1.         0.91111111 0.9047619 ]\n",
      "F1 Score: [1.         0.94382022 0.98765432 0.96385542 0.99047619 0.9787234\n",
      " 1.         1.         0.95348837 0.92682927]\n",
      "Testing Accuracy: 0.9756\n"
     ]
    }
   ],
   "source": [
    "# print precision-recall for best k-value = 3\n",
    "model = KNN(k=kVals[max_index])\t\n",
    "model.fit(X_train, y_train)\n",
    "predictions = model.predict(X_test)\n",
    "acc = accuracy_score(y_test, predictions)\n",
    "precision, recall, f1, _ = precision_recall_fscore_support(y_test, predictions)\n",
    "print(f\"Precision: {precision}\")\n",
    "print(f\"Recall: {recall}\")\n",
    "print(f\"F1 Score: {f1}\")\n",
    "\n",
    "print(f\"Testing Accuracy: {acc:.4f}\")\n"
   ]
  }
 ],
 "metadata": {
  "kernelspec": {
   "display_name": "venv",
   "language": "python",
   "name": "python3"
  },
  "language_info": {
   "codemirror_mode": {
    "name": "ipython",
    "version": 3
   },
   "file_extension": ".py",
   "mimetype": "text/x-python",
   "name": "python",
   "nbconvert_exporter": "python",
   "pygments_lexer": "ipython3",
   "version": "3.12.10"
  }
 },
 "nbformat": 4,
 "nbformat_minor": 5
}
