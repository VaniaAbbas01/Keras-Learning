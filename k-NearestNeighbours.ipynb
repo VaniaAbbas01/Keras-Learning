{
 "cells": [
  {
   "cell_type": "code",
   "execution_count": 1,
   "id": "e0303fc4",
   "metadata": {},
   "outputs": [],
   "source": [
    "import numpy as np\n",
    "import operator\n",
    "from operator import itemgetter\n",
    "from sklearn.datasets import load_digits\n",
    "from sklearn.model_selection import train_test_split\n",
    "from sklearn.metrics import accuracy_score\n",
    "from sklearn.metrics import precision_recall_fscore_support\n",
    "from matplotlib import pyplot as plt"
   ]
  },
  {
   "cell_type": "code",
   "execution_count": 2,
   "id": "5302971b",
   "metadata": {},
   "outputs": [],
   "source": [
    "# x1 and x2 are two vectors of different images\n",
    "def euclidean_distance(x1, x2):\n",
    "    return np.sqrt(np.sum((x1 - x2) ** 2))"
   ]
  },
  {
   "cell_type": "code",
   "execution_count": null,
   "id": "f63d4991",
   "metadata": {},
   "outputs": [],
   "source": [
    "class KNN:\n",
    "    # constructor for initializing k\n",
    "    def __init__(self, k=3):\n",
    "        self.k = k\n",
    "\n",
    "    # save training data and labels\n",
    "    def fit(self, x_train, y_train):\n",
    "        self.x_train = x_train # training data\n",
    "        self.y_train = y_train # training labels\n",
    "\n",
    "    # performing prediction\n",
    "    def predict(self, x_test):\n",
    "        predictions = []\n",
    "        for i in range(len(x_test)):\n",
    "            # calculating distance of test data[i] from all training data\n",
    "            dist = np.array([euclidean_distance(x_test[i], x) for x in self.x_train])\n",
    "            # sort the distnaces and return first k neighbors\n",
    "            dist_sorted = np.argsort()[:self.k]\n",
    "            # set neighbour count to empty set\n",
    "            neigh_count = {}\n",
    "            for idx in dist_sorted:\n",
    "                # if exist in set, increment frequency\n",
    "                if self.y_train[idx] in neigh_count:\n",
    "                    neigh_count[self.y_train[idx]] += 1\n",
    "                else:\n",
    "                    # if not exist in set, add to set with frequency 1\n",
    "                    neigh_count[self.y_train[idx]] = 1\n",
    "            # sort the neighbour count in descending order and return the first one\n",
    "            # which is the most frequent label in the k neighbours\n",
    "            sorted_neigh_count = sorted(neigh_count.items(), key=itemgetter(1), reverse=True)\n",
    "            predictions.append(sorted_neigh_count[0][0])\n",
    "        return predictions"
   ]
  },
  {
   "cell_type": "code",
   "execution_count": null,
   "id": "d7c12157",
   "metadata": {},
   "outputs": [],
   "source": [
    "# loading mnist dataset\n",
    "mnist = load_digits()\n",
    "print(mnist.data.shape)\n",
    "\n",
    "X = mnist.data\n",
    "y = mnist.target"
   ]
  },
  {
   "cell_type": "code",
   "execution_count": null,
   "id": "ea816129",
   "metadata": {},
   "outputs": [],
   "source": [
    "# splitting data to train and test data\n",
    "X_train, X_test, y_train, y_test = train_test_split(X, y, test_size=0.25, random_state=123)"
   ]
  },
  {
   "cell_type": "code",
   "execution_count": null,
   "id": "cdc219a3",
   "metadata": {},
   "outputs": [],
   "source": [
    "# find the best k-value by training for k in the range 1 to 100\n",
    "kVals = np.arange(3, 100, 2)\n",
    "accuracies = []\n",
    "for k in kVals:\n",
    "    model = KNN(k=k)\n",
    "    model.fit(X_train, y_train)\n",
    "    predictions = model.predict(X_test)\n",
    "    accuracy = accuracy_score(y_test, predictions)\n",
    "    accuracies.append(accuracy)\n",
    "    print(f\"k={k}, accuracy={accuracy:.4f}\")"
   ]
  },
  {
   "cell_type": "code",
   "execution_count": null,
   "id": "644fcd21",
   "metadata": {},
   "outputs": [],
   "source": [
    "# find the index where k = max\n",
    "max_index = accuracies.index(max(accuracies))\n",
    "print(f\"Best k value is {kVals[max_index]} with accuracy {max(accuracies):.4f}\")"
   ]
  },
  {
   "cell_type": "code",
   "execution_count": null,
   "id": "93da08c6",
   "metadata": {},
   "outputs": [],
   "source": [
    "# plot k values and their accuracies\n",
    "plt.plot(kVals, accuracies, marker='o')\n",
    "plt.title(\"k vs. Accuracy\")\n",
    "plt.xlabel(\"k\")\n",
    "plt.ylabel(\"Accuracy\")\n",
    "plt.show()"
   ]
  },
  {
   "cell_type": "code",
   "execution_count": null,
   "id": "fe4295d0",
   "metadata": {},
   "outputs": [],
   "source": [
    "# print precision-recall for best k-value = 3\n",
    "model = KNN(k=kVals[max_index])\t\n",
    "model.fit(X_train, y_train)\n",
    "predictions = model.predict(X_test)\n",
    "acc = accuracy_score(y_test, predictions)\n",
    "precision, recall, f1, _ = precision_recall_fscore_support(y_test, predictions)\n",
    "print(f\"Precision: {precision}\")\n",
    "print(f\"Recall: {recall}\")\n",
    "print(f\"F1 Score: {f1}\")\n",
    "\n",
    "print(f\"Testing Accuracy: {acc:.4f}\")\n"
   ]
  }
 ],
 "metadata": {
  "kernelspec": {
   "display_name": "venv",
   "language": "python",
   "name": "python3"
  },
  "language_info": {
   "codemirror_mode": {
    "name": "ipython",
    "version": 3
   },
   "file_extension": ".py",
   "mimetype": "text/x-python",
   "name": "python",
   "nbconvert_exporter": "python",
   "pygments_lexer": "ipython3",
   "version": "3.12.10"
  }
 },
 "nbformat": 4,
 "nbformat_minor": 5
}
